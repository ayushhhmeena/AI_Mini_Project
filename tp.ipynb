{
  "cells": [
    {
      "cell_type": "code",
      "execution_count": null,
      "metadata": {
        "id": "lAus4kFe9uRH"
      },
      "outputs": [],
      "source": []
    },
    {
      "cell_type": "code",
      "execution_count": 6,
      "metadata": {
        "id": "EQWQfSwH_FdL"
      },
      "outputs": [],
      "source": [
        "import pandas as pd\n",
        "import xgboost as xgb\n",
        "import matplotlib.pyplot as plt"
      ]
    },
    {
      "cell_type": "code",
      "execution_count": 37,
      "metadata": {
        "colab": {
          "base_uri": "https://localhost:8080/",
          "height": 424
        },
        "id": "7IQusjXw_Pcf",
        "outputId": "50233493-8615-4d23-ec3d-c89cd1489ac7"
      },
      "outputs": [
        {
          "data": {
            "application/vnd.google.colaboratory.intrinsic+json": {
              "summary": "{\n  \"name\": \"data\",\n  \"rows\": 1235,\n  \"fields\": [\n    {\n      \"column\": \"Date\",\n      \"properties\": {\n        \"dtype\": \"object\",\n        \"num_unique_values\": 1235,\n        \"samples\": [\n          \"2022-05-09\",\n          \"2021-08-27\",\n          \"2021-07-08\"\n        ],\n        \"semantic_type\": \"\",\n        \"description\": \"\"\n      }\n    },\n    {\n      \"column\": \"Open\",\n      \"properties\": {\n        \"dtype\": \"number\",\n        \"std\": 1585.308827917024,\n        \"min\": 911.849976,\n        \"max\": 6754.649902,\n        \"num_unique_values\": 1120,\n        \"samples\": [\n          1369.849976,\n          1355.0,\n          4800.0\n        ],\n        \"semantic_type\": \"\",\n        \"description\": \"\"\n      }\n    },\n    {\n      \"column\": \"High\",\n      \"properties\": {\n        \"dtype\": \"number\",\n        \"std\": 1600.7508948537807,\n        \"min\": 1074.949951,\n        \"max\": 6847.450195,\n        \"num_unique_values\": 1178,\n        \"samples\": [\n          1389.099976,\n          1275.0,\n          1460.0\n        ],\n        \"semantic_type\": \"\",\n        \"description\": \"\"\n      }\n    },\n    {\n      \"column\": \"Low\",\n      \"properties\": {\n        \"dtype\": \"number\",\n        \"std\": 1559.817156681432,\n        \"min\": 735.349976,\n        \"max\": 6590.149902,\n        \"num_unique_values\": 1184,\n        \"samples\": [\n          2004.449951,\n          4085.149902,\n          5606.0\n        ],\n        \"semantic_type\": \"\",\n        \"description\": \"\"\n      }\n    },\n    {\n      \"column\": \"Close\",\n      \"properties\": {\n        \"dtype\": \"number\",\n        \"std\": 1579.4418344124426,\n        \"min\": 864.200012,\n        \"max\": 6754.899902,\n        \"num_unique_values\": 1226,\n        \"samples\": [\n          5560.350098,\n          4151.600098,\n          3904.199951\n        ],\n        \"semantic_type\": \"\",\n        \"description\": \"\"\n      }\n    },\n    {\n      \"column\": \"Adj Close\",\n      \"properties\": {\n        \"dtype\": \"number\",\n        \"std\": 1579.587123543137,\n        \"min\": 822.362793,\n        \"max\": 6754.899902,\n        \"num_unique_values\": 1232,\n        \"samples\": [\n          4159.366211,\n          4590.681152,\n          1028.429321\n        ],\n        \"semantic_type\": \"\",\n        \"description\": \"\"\n      }\n    },\n    {\n      \"column\": \"Volume\",\n      \"properties\": {\n        \"dtype\": \"number\",\n        \"std\": 834799,\n        \"min\": 21617,\n        \"max\": 22136491,\n        \"num_unique_values\": 1234,\n        \"samples\": [\n          341964,\n          252971,\n          779102\n        ],\n        \"semantic_type\": \"\",\n        \"description\": \"\"\n      }\n    }\n  ]\n}",
              "type": "dataframe",
              "variable_name": "data"
            },
            "text/html": [
              "\n",
              "  <div id=\"df-79357d75-0bba-4827-8bf2-36f31818b27f\" class=\"colab-df-container\">\n",
              "    <div>\n",
              "<style scoped>\n",
              "    .dataframe tbody tr th:only-of-type {\n",
              "        vertical-align: middle;\n",
              "    }\n",
              "\n",
              "    .dataframe tbody tr th {\n",
              "        vertical-align: top;\n",
              "    }\n",
              "\n",
              "    .dataframe thead th {\n",
              "        text-align: right;\n",
              "    }\n",
              "</style>\n",
              "<table border=\"1\" class=\"dataframe\">\n",
              "  <thead>\n",
              "    <tr style=\"text-align: right;\">\n",
              "      <th></th>\n",
              "      <th>Date</th>\n",
              "      <th>Open</th>\n",
              "      <th>High</th>\n",
              "      <th>Low</th>\n",
              "      <th>Close</th>\n",
              "      <th>Adj Close</th>\n",
              "      <th>Volume</th>\n",
              "    </tr>\n",
              "  </thead>\n",
              "  <tbody>\n",
              "    <tr>\n",
              "      <th>0</th>\n",
              "      <td>2019-04-22</td>\n",
              "      <td>1318.000000</td>\n",
              "      <td>1323.000000</td>\n",
              "      <td>1306.800049</td>\n",
              "      <td>1319.099976</td>\n",
              "      <td>1240.621704</td>\n",
              "      <td>356884</td>\n",
              "    </tr>\n",
              "    <tr>\n",
              "      <th>1</th>\n",
              "      <td>2019-04-23</td>\n",
              "      <td>1315.099976</td>\n",
              "      <td>1318.000000</td>\n",
              "      <td>1300.550049</td>\n",
              "      <td>1303.650024</td>\n",
              "      <td>1226.090820</td>\n",
              "      <td>203428</td>\n",
              "    </tr>\n",
              "    <tr>\n",
              "      <th>2</th>\n",
              "      <td>2019-04-24</td>\n",
              "      <td>1301.050049</td>\n",
              "      <td>1314.750000</td>\n",
              "      <td>1298.800049</td>\n",
              "      <td>1309.650024</td>\n",
              "      <td>1231.733887</td>\n",
              "      <td>152965</td>\n",
              "    </tr>\n",
              "    <tr>\n",
              "      <th>3</th>\n",
              "      <td>2019-04-25</td>\n",
              "      <td>1313.000000</td>\n",
              "      <td>1313.000000</td>\n",
              "      <td>1296.550049</td>\n",
              "      <td>1301.349976</td>\n",
              "      <td>1223.927612</td>\n",
              "      <td>230304</td>\n",
              "    </tr>\n",
              "    <tr>\n",
              "      <th>4</th>\n",
              "      <td>2019-04-26</td>\n",
              "      <td>1302.000000</td>\n",
              "      <td>1321.000000</td>\n",
              "      <td>1296.000000</td>\n",
              "      <td>1314.000000</td>\n",
              "      <td>1235.825317</td>\n",
              "      <td>266749</td>\n",
              "    </tr>\n",
              "    <tr>\n",
              "      <th>...</th>\n",
              "      <td>...</td>\n",
              "      <td>...</td>\n",
              "      <td>...</td>\n",
              "      <td>...</td>\n",
              "      <td>...</td>\n",
              "      <td>...</td>\n",
              "      <td>...</td>\n",
              "    </tr>\n",
              "    <tr>\n",
              "      <th>1230</th>\n",
              "      <td>2024-04-12</td>\n",
              "      <td>5685.000000</td>\n",
              "      <td>5719.500000</td>\n",
              "      <td>5600.000000</td>\n",
              "      <td>5616.250000</td>\n",
              "      <td>5616.250000</td>\n",
              "      <td>323488</td>\n",
              "    </tr>\n",
              "    <tr>\n",
              "      <th>1231</th>\n",
              "      <td>2024-04-15</td>\n",
              "      <td>5515.000000</td>\n",
              "      <td>5585.250000</td>\n",
              "      <td>5373.899902</td>\n",
              "      <td>5396.200195</td>\n",
              "      <td>5396.200195</td>\n",
              "      <td>546918</td>\n",
              "    </tr>\n",
              "    <tr>\n",
              "      <th>1232</th>\n",
              "      <td>2024-04-16</td>\n",
              "      <td>5352.950195</td>\n",
              "      <td>5354.000000</td>\n",
              "      <td>5200.000000</td>\n",
              "      <td>5209.899902</td>\n",
              "      <td>5209.899902</td>\n",
              "      <td>591551</td>\n",
              "    </tr>\n",
              "    <tr>\n",
              "      <th>1233</th>\n",
              "      <td>2024-04-18</td>\n",
              "      <td>5228.000000</td>\n",
              "      <td>5311.000000</td>\n",
              "      <td>5175.000000</td>\n",
              "      <td>5206.899902</td>\n",
              "      <td>5206.899902</td>\n",
              "      <td>531498</td>\n",
              "    </tr>\n",
              "    <tr>\n",
              "      <th>1234</th>\n",
              "      <td>2024-04-19</td>\n",
              "      <td>5175.000000</td>\n",
              "      <td>5177.200195</td>\n",
              "      <td>5091.049805</td>\n",
              "      <td>5118.149902</td>\n",
              "      <td>5118.149902</td>\n",
              "      <td>341489</td>\n",
              "    </tr>\n",
              "  </tbody>\n",
              "</table>\n",
              "<p>1235 rows × 7 columns</p>\n",
              "</div>\n",
              "    <div class=\"colab-df-buttons\">\n",
              "\n",
              "  <div class=\"colab-df-container\">\n",
              "    <button class=\"colab-df-convert\" onclick=\"convertToInteractive('df-79357d75-0bba-4827-8bf2-36f31818b27f')\"\n",
              "            title=\"Convert this dataframe to an interactive table.\"\n",
              "            style=\"display:none;\">\n",
              "\n",
              "  <svg xmlns=\"http://www.w3.org/2000/svg\" height=\"24px\" viewBox=\"0 -960 960 960\">\n",
              "    <path d=\"M120-120v-720h720v720H120Zm60-500h600v-160H180v160Zm220 220h160v-160H400v160Zm0 220h160v-160H400v160ZM180-400h160v-160H180v160Zm440 0h160v-160H620v160ZM180-180h160v-160H180v160Zm440 0h160v-160H620v160Z\"/>\n",
              "  </svg>\n",
              "    </button>\n",
              "\n",
              "  <style>\n",
              "    .colab-df-container {\n",
              "      display:flex;\n",
              "      gap: 12px;\n",
              "    }\n",
              "\n",
              "    .colab-df-convert {\n",
              "      background-color: #E8F0FE;\n",
              "      border: none;\n",
              "      border-radius: 50%;\n",
              "      cursor: pointer;\n",
              "      display: none;\n",
              "      fill: #1967D2;\n",
              "      height: 32px;\n",
              "      padding: 0 0 0 0;\n",
              "      width: 32px;\n",
              "    }\n",
              "\n",
              "    .colab-df-convert:hover {\n",
              "      background-color: #E2EBFA;\n",
              "      box-shadow: 0px 1px 2px rgba(60, 64, 67, 0.3), 0px 1px 3px 1px rgba(60, 64, 67, 0.15);\n",
              "      fill: #174EA6;\n",
              "    }\n",
              "\n",
              "    .colab-df-buttons div {\n",
              "      margin-bottom: 4px;\n",
              "    }\n",
              "\n",
              "    [theme=dark] .colab-df-convert {\n",
              "      background-color: #3B4455;\n",
              "      fill: #D2E3FC;\n",
              "    }\n",
              "\n",
              "    [theme=dark] .colab-df-convert:hover {\n",
              "      background-color: #434B5C;\n",
              "      box-shadow: 0px 1px 3px 1px rgba(0, 0, 0, 0.15);\n",
              "      filter: drop-shadow(0px 1px 2px rgba(0, 0, 0, 0.3));\n",
              "      fill: #FFFFFF;\n",
              "    }\n",
              "  </style>\n",
              "\n",
              "    <script>\n",
              "      const buttonEl =\n",
              "        document.querySelector('#df-79357d75-0bba-4827-8bf2-36f31818b27f button.colab-df-convert');\n",
              "      buttonEl.style.display =\n",
              "        google.colab.kernel.accessAllowed ? 'block' : 'none';\n",
              "\n",
              "      async function convertToInteractive(key) {\n",
              "        const element = document.querySelector('#df-79357d75-0bba-4827-8bf2-36f31818b27f');\n",
              "        const dataTable =\n",
              "          await google.colab.kernel.invokeFunction('convertToInteractive',\n",
              "                                                    [key], {});\n",
              "        if (!dataTable) return;\n",
              "\n",
              "        const docLinkHtml = 'Like what you see? Visit the ' +\n",
              "          '<a target=\"_blank\" href=https://colab.research.google.com/notebooks/data_table.ipynb>data table notebook</a>'\n",
              "          + ' to learn more about interactive tables.';\n",
              "        element.innerHTML = '';\n",
              "        dataTable['output_type'] = 'display_data';\n",
              "        await google.colab.output.renderOutput(dataTable, element);\n",
              "        const docLink = document.createElement('div');\n",
              "        docLink.innerHTML = docLinkHtml;\n",
              "        element.appendChild(docLink);\n",
              "      }\n",
              "    </script>\n",
              "  </div>\n",
              "\n",
              "\n",
              "<div id=\"df-7a4e3bff-b52d-4624-aedc-3184315f4d83\">\n",
              "  <button class=\"colab-df-quickchart\" onclick=\"quickchart('df-7a4e3bff-b52d-4624-aedc-3184315f4d83')\"\n",
              "            title=\"Suggest charts\"\n",
              "            style=\"display:none;\">\n",
              "\n",
              "<svg xmlns=\"http://www.w3.org/2000/svg\" height=\"24px\"viewBox=\"0 0 24 24\"\n",
              "     width=\"24px\">\n",
              "    <g>\n",
              "        <path d=\"M19 3H5c-1.1 0-2 .9-2 2v14c0 1.1.9 2 2 2h14c1.1 0 2-.9 2-2V5c0-1.1-.9-2-2-2zM9 17H7v-7h2v7zm4 0h-2V7h2v10zm4 0h-2v-4h2v4z\"/>\n",
              "    </g>\n",
              "</svg>\n",
              "  </button>\n",
              "\n",
              "<style>\n",
              "  .colab-df-quickchart {\n",
              "      --bg-color: #E8F0FE;\n",
              "      --fill-color: #1967D2;\n",
              "      --hover-bg-color: #E2EBFA;\n",
              "      --hover-fill-color: #174EA6;\n",
              "      --disabled-fill-color: #AAA;\n",
              "      --disabled-bg-color: #DDD;\n",
              "  }\n",
              "\n",
              "  [theme=dark] .colab-df-quickchart {\n",
              "      --bg-color: #3B4455;\n",
              "      --fill-color: #D2E3FC;\n",
              "      --hover-bg-color: #434B5C;\n",
              "      --hover-fill-color: #FFFFFF;\n",
              "      --disabled-bg-color: #3B4455;\n",
              "      --disabled-fill-color: #666;\n",
              "  }\n",
              "\n",
              "  .colab-df-quickchart {\n",
              "    background-color: var(--bg-color);\n",
              "    border: none;\n",
              "    border-radius: 50%;\n",
              "    cursor: pointer;\n",
              "    display: none;\n",
              "    fill: var(--fill-color);\n",
              "    height: 32px;\n",
              "    padding: 0;\n",
              "    width: 32px;\n",
              "  }\n",
              "\n",
              "  .colab-df-quickchart:hover {\n",
              "    background-color: var(--hover-bg-color);\n",
              "    box-shadow: 0 1px 2px rgba(60, 64, 67, 0.3), 0 1px 3px 1px rgba(60, 64, 67, 0.15);\n",
              "    fill: var(--button-hover-fill-color);\n",
              "  }\n",
              "\n",
              "  .colab-df-quickchart-complete:disabled,\n",
              "  .colab-df-quickchart-complete:disabled:hover {\n",
              "    background-color: var(--disabled-bg-color);\n",
              "    fill: var(--disabled-fill-color);\n",
              "    box-shadow: none;\n",
              "  }\n",
              "\n",
              "  .colab-df-spinner {\n",
              "    border: 2px solid var(--fill-color);\n",
              "    border-color: transparent;\n",
              "    border-bottom-color: var(--fill-color);\n",
              "    animation:\n",
              "      spin 1s steps(1) infinite;\n",
              "  }\n",
              "\n",
              "  @keyframes spin {\n",
              "    0% {\n",
              "      border-color: transparent;\n",
              "      border-bottom-color: var(--fill-color);\n",
              "      border-left-color: var(--fill-color);\n",
              "    }\n",
              "    20% {\n",
              "      border-color: transparent;\n",
              "      border-left-color: var(--fill-color);\n",
              "      border-top-color: var(--fill-color);\n",
              "    }\n",
              "    30% {\n",
              "      border-color: transparent;\n",
              "      border-left-color: var(--fill-color);\n",
              "      border-top-color: var(--fill-color);\n",
              "      border-right-color: var(--fill-color);\n",
              "    }\n",
              "    40% {\n",
              "      border-color: transparent;\n",
              "      border-right-color: var(--fill-color);\n",
              "      border-top-color: var(--fill-color);\n",
              "    }\n",
              "    60% {\n",
              "      border-color: transparent;\n",
              "      border-right-color: var(--fill-color);\n",
              "    }\n",
              "    80% {\n",
              "      border-color: transparent;\n",
              "      border-right-color: var(--fill-color);\n",
              "      border-bottom-color: var(--fill-color);\n",
              "    }\n",
              "    90% {\n",
              "      border-color: transparent;\n",
              "      border-bottom-color: var(--fill-color);\n",
              "    }\n",
              "  }\n",
              "</style>\n",
              "\n",
              "  <script>\n",
              "    async function quickchart(key) {\n",
              "      const quickchartButtonEl =\n",
              "        document.querySelector('#' + key + ' button');\n",
              "      quickchartButtonEl.disabled = true;  // To prevent multiple clicks.\n",
              "      quickchartButtonEl.classList.add('colab-df-spinner');\n",
              "      try {\n",
              "        const charts = await google.colab.kernel.invokeFunction(\n",
              "            'suggestCharts', [key], {});\n",
              "      } catch (error) {\n",
              "        console.error('Error during call to suggestCharts:', error);\n",
              "      }\n",
              "      quickchartButtonEl.classList.remove('colab-df-spinner');\n",
              "      quickchartButtonEl.classList.add('colab-df-quickchart-complete');\n",
              "    }\n",
              "    (() => {\n",
              "      let quickchartButtonEl =\n",
              "        document.querySelector('#df-7a4e3bff-b52d-4624-aedc-3184315f4d83 button');\n",
              "      quickchartButtonEl.style.display =\n",
              "        google.colab.kernel.accessAllowed ? 'block' : 'none';\n",
              "    })();\n",
              "  </script>\n",
              "</div>\n",
              "\n",
              "  <div id=\"id_e21ffc0e-aaa4-4023-aeb5-806b009217ad\">\n",
              "    <style>\n",
              "      .colab-df-generate {\n",
              "        background-color: #E8F0FE;\n",
              "        border: none;\n",
              "        border-radius: 50%;\n",
              "        cursor: pointer;\n",
              "        display: none;\n",
              "        fill: #1967D2;\n",
              "        height: 32px;\n",
              "        padding: 0 0 0 0;\n",
              "        width: 32px;\n",
              "      }\n",
              "\n",
              "      .colab-df-generate:hover {\n",
              "        background-color: #E2EBFA;\n",
              "        box-shadow: 0px 1px 2px rgba(60, 64, 67, 0.3), 0px 1px 3px 1px rgba(60, 64, 67, 0.15);\n",
              "        fill: #174EA6;\n",
              "      }\n",
              "\n",
              "      [theme=dark] .colab-df-generate {\n",
              "        background-color: #3B4455;\n",
              "        fill: #D2E3FC;\n",
              "      }\n",
              "\n",
              "      [theme=dark] .colab-df-generate:hover {\n",
              "        background-color: #434B5C;\n",
              "        box-shadow: 0px 1px 3px 1px rgba(0, 0, 0, 0.15);\n",
              "        filter: drop-shadow(0px 1px 2px rgba(0, 0, 0, 0.3));\n",
              "        fill: #FFFFFF;\n",
              "      }\n",
              "    </style>\n",
              "    <button class=\"colab-df-generate\" onclick=\"generateWithVariable('data')\"\n",
              "            title=\"Generate code using this dataframe.\"\n",
              "            style=\"display:none;\">\n",
              "\n",
              "  <svg xmlns=\"http://www.w3.org/2000/svg\" height=\"24px\"viewBox=\"0 0 24 24\"\n",
              "       width=\"24px\">\n",
              "    <path d=\"M7,19H8.4L18.45,9,17,7.55,7,17.6ZM5,21V16.75L18.45,3.32a2,2,0,0,1,2.83,0l1.4,1.43a1.91,1.91,0,0,1,.58,1.4,1.91,1.91,0,0,1-.58,1.4L9.25,21ZM18.45,9,17,7.55Zm-12,3A5.31,5.31,0,0,0,4.9,8.1,5.31,5.31,0,0,0,1,6.5,5.31,5.31,0,0,0,4.9,4.9,5.31,5.31,0,0,0,6.5,1,5.31,5.31,0,0,0,8.1,4.9,5.31,5.31,0,0,0,12,6.5,5.46,5.46,0,0,0,6.5,12Z\"/>\n",
              "  </svg>\n",
              "    </button>\n",
              "    <script>\n",
              "      (() => {\n",
              "      const buttonEl =\n",
              "        document.querySelector('#id_e21ffc0e-aaa4-4023-aeb5-806b009217ad button.colab-df-generate');\n",
              "      buttonEl.style.display =\n",
              "        google.colab.kernel.accessAllowed ? 'block' : 'none';\n",
              "\n",
              "      buttonEl.onclick = () => {\n",
              "        google.colab.notebook.generateWithVariable('data');\n",
              "      }\n",
              "      })();\n",
              "    </script>\n",
              "  </div>\n",
              "\n",
              "    </div>\n",
              "  </div>\n"
            ],
            "text/plain": [
              "            Date         Open         High          Low        Close  \\\n",
              "0     2019-04-22  1318.000000  1323.000000  1306.800049  1319.099976   \n",
              "1     2019-04-23  1315.099976  1318.000000  1300.550049  1303.650024   \n",
              "2     2019-04-24  1301.050049  1314.750000  1298.800049  1309.650024   \n",
              "3     2019-04-25  1313.000000  1313.000000  1296.550049  1301.349976   \n",
              "4     2019-04-26  1302.000000  1321.000000  1296.000000  1314.000000   \n",
              "...          ...          ...          ...          ...          ...   \n",
              "1230  2024-04-12  5685.000000  5719.500000  5600.000000  5616.250000   \n",
              "1231  2024-04-15  5515.000000  5585.250000  5373.899902  5396.200195   \n",
              "1232  2024-04-16  5352.950195  5354.000000  5200.000000  5209.899902   \n",
              "1233  2024-04-18  5228.000000  5311.000000  5175.000000  5206.899902   \n",
              "1234  2024-04-19  5175.000000  5177.200195  5091.049805  5118.149902   \n",
              "\n",
              "        Adj Close  Volume  \n",
              "0     1240.621704  356884  \n",
              "1     1226.090820  203428  \n",
              "2     1231.733887  152965  \n",
              "3     1223.927612  230304  \n",
              "4     1235.825317  266749  \n",
              "...           ...     ...  \n",
              "1230  5616.250000  323488  \n",
              "1231  5396.200195  546918  \n",
              "1232  5209.899902  591551  \n",
              "1233  5206.899902  531498  \n",
              "1234  5118.149902  341489  \n",
              "\n",
              "[1235 rows x 7 columns]"
            ]
          },
          "execution_count": 37,
          "metadata": {},
          "output_type": "execute_result"
        }
      ],
      "source": [
        "# Loading The DataSet\n",
        "data = pd.read_csv('COFORGE.csv')\n",
        "data"
      ]
    },
    {
      "cell_type": "code",
      "execution_count": 38,
      "metadata": {
        "colab": {
          "base_uri": "https://localhost:8080/",
          "height": 451
        },
        "id": "Q7O-6AMFA2Z_",
        "outputId": "b79fc599-c049-45f1-9d7c-519b29fd6acf"
      },
      "outputs": [
        {
          "data": {
            "text/plain": [
              "<Axes: >"
            ]
          },
          "execution_count": 38,
          "metadata": {},
          "output_type": "execute_result"
        },
        {
          "data": {
            "image/png": "[encoded data removed]",
            "text/plain": [
              "<Figure size 640x480 with 1 Axes>"
            ]
          },
          "metadata": {},
          "output_type": "display_data"
        }
      ],
      "source": [
        "#to show data in graph\n",
        "data['Close'].plot()"
      ]
    },
    {
      "cell_type": "code",
      "execution_count": 39,
      "metadata": {
        "id": "czmdcx-OBeMF"
      },
      "outputs": [],
      "source": [
        "train_data = pd.read_csv('COFORGE1.csv')\n",
        "test_data = pd.read_csv('COFORGE2.csv')"
      ]
    },
    {
      "cell_type": "code",
      "execution_count": 53,
      "metadata": {
        "id": "OPNNbf3YFMRG"
      },
      "outputs": [],
      "source": [
        "# train_data1 = data.iloc[:int(.99*len(data)), :]\n",
        "# test_data1 = data.iloc[:int(.99*len(data)):, :]"
      ]
    },
    {
      "cell_type": "code",
      "execution_count": 54,
      "metadata": {
        "id": "C6swLu_xCD32"
      },
      "outputs": [],
      "source": [
        "#defineing the features and the target variable\n",
        "features = ['Open', 'Volume']\n",
        "target = 'Close'"
      ]
    },
    {
      "cell_type": "code",
      "execution_count": 42,
      "metadata": {
        "colab": {
          "base_uri": "https://localhost:8080/",
          "height": 252
        },
        "id": "cEpCLOvGCWM-",
        "outputId": "dc6e2fa1-a996-4b6c-d92b-8409ceb65a15"
      },
      "outputs": [
        {
          "data": {
            "text/html": [
              "<style>#sk-container-id-2 {color: black;background-color: white;}#sk-container-id-2 pre{padding: 0;}#sk-container-id-2 div.sk-toggleable {background-color: white;}#sk-container-id-2 label.sk-toggleable__label {cursor: pointer;display: block;width: 100%;margin-bottom: 0;padding: 0.3em;box-sizing: border-box;text-align: center;}#sk-container-id-2 label.sk-toggleable__label-arrow:before {content: \"▸\";float: left;margin-right: 0.25em;color: #696969;}#sk-container-id-2 label.sk-toggleable__label-arrow:hover:before {color: black;}#sk-container-id-2 div.sk-estimator:hover label.sk-toggleable__label-arrow:before {color: black;}#sk-container-id-2 div.sk-toggleable__content {max-height: 0;max-width: 0;overflow: hidden;text-align: left;background-color: #f0f8ff;}#sk-container-id-2 div.sk-toggleable__content pre {margin: 0.2em;color: black;border-radius: 0.25em;background-color: #f0f8ff;}#sk-container-id-2 input.sk-toggleable__control:checked~div.sk-toggleable__content {max-height: 200px;max-width: 100%;overflow: auto;}#sk-container-id-2 input.sk-toggleable__control:checked~label.sk-toggleable__label-arrow:before {content: \"▾\";}#sk-container-id-2 div.sk-estimator input.sk-toggleable__control:checked~label.sk-toggleable__label {background-color: #d4ebff;}#sk-container-id-2 div.sk-label input.sk-toggleable__control:checked~label.sk-toggleable__label {background-color: #d4ebff;}#sk-container-id-2 input.sk-hidden--visually {border: 0;clip: rect(1px 1px 1px 1px);clip: rect(1px, 1px, 1px, 1px);height: 1px;margin: -1px;overflow: hidden;padding: 0;position: absolute;width: 1px;}#sk-container-id-2 div.sk-estimator {font-family: monospace;background-color: #f0f8ff;border: 1px dotted black;border-radius: 0.25em;box-sizing: border-box;margin-bottom: 0.5em;}#sk-container-id-2 div.sk-estimator:hover {background-color: #d4ebff;}#sk-container-id-2 div.sk-parallel-item::after {content: \"\";width: 100%;border-bottom: 1px solid gray;flex-grow: 1;}#sk-container-id-2 div.sk-label:hover label.sk-toggleable__label {background-color: #d4ebff;}#sk-container-id-2 div.sk-serial::before {content: \"\";position: absolute;border-left: 1px solid gray;box-sizing: border-box;top: 0;bottom: 0;left: 50%;z-index: 0;}#sk-container-id-2 div.sk-serial {display: flex;flex-direction: column;align-items: center;background-color: white;padding-right: 0.2em;padding-left: 0.2em;position: relative;}#sk-container-id-2 div.sk-item {position: relative;z-index: 1;}#sk-container-id-2 div.sk-parallel {display: flex;align-items: stretch;justify-content: center;background-color: white;position: relative;}#sk-container-id-2 div.sk-item::before, #sk-container-id-2 div.sk-parallel-item::before {content: \"\";position: absolute;border-left: 1px solid gray;box-sizing: border-box;top: 0;bottom: 0;left: 50%;z-index: -1;}#sk-container-id-2 div.sk-parallel-item {display: flex;flex-direction: column;z-index: 1;position: relative;background-color: white;}#sk-container-id-2 div.sk-parallel-item:first-child::after {align-self: flex-end;width: 50%;}#sk-container-id-2 div.sk-parallel-item:last-child::after {align-self: flex-start;width: 50%;}#sk-container-id-2 div.sk-parallel-item:only-child::after {width: 0;}#sk-container-id-2 div.sk-dashed-wrapped {border: 1px dashed gray;margin: 0 0.4em 0.5em 0.4em;box-sizing: border-box;padding-bottom: 0.4em;background-color: white;}#sk-container-id-2 div.sk-label label {font-family: monospace;font-weight: bold;display: inline-block;line-height: 1.2em;}#sk-container-id-2 div.sk-label-container {text-align: center;}#sk-container-id-2 div.sk-container {/* jupyter's `normalize.less` sets `[hidden] { display: none; }` but bootstrap.min.css set `[hidden] { display: none !important; }` so we also need the `!important` here to be able to override the default hidden behavior on the sphinx rendered scikit-learn.org. See: https://github.com/scikit-learn/scikit-learn/issues/21755 */display: inline-block !important;position: relative;}#sk-container-id-2 div.sk-text-repr-fallback {display: none;}</style><div id=\"sk-container-id-2\" class=\"sk-top-container\"><div class=\"sk-text-repr-fallback\"><pre>XGBRFRegressor(base_score=None, booster=None, callbacks=None,\n",
              "               colsample_bylevel=None, colsample_bytree=None, device=None,\n",
              "               early_stopping_rounds=None, enable_categorical=False,\n",
              "               eval_metric=None, feature_types=None, gamma=None,\n",
              "               grow_policy=None, importance_type=None,\n",
              "               interaction_constraints=None, max_bin=None,\n",
              "               max_cat_threshold=None, max_cat_to_onehot=None,\n",
              "               max_delta_step=None, max_depth=None, max_leaves=None,\n",
              "               min_child_weight=None, missing=nan, monotone_constraints=None,\n",
              "               multi_strategy=None, n_estimators=None, n_jobs=None,\n",
              "               num_parallel_tree=None, objective=&#x27;reg:squarederror&#x27;,\n",
              "               random_state=None, reg_alpha=None, ...)</pre><b>In a Jupyter environment, please rerun this cell to show the HTML representation or trust the notebook. <br />On GitHub, the HTML representation is unable to render, please try loading this page with nbviewer.org.</b></div><div class=\"sk-container\" hidden><div class=\"sk-item\"><div class=\"sk-estimator sk-toggleable\"><input class=\"sk-toggleable__control sk-hidden--visually\" id=\"sk-estimator-id-2\" type=\"checkbox\" checked><label for=\"sk-estimator-id-2\" class=\"sk-toggleable__label sk-toggleable__label-arrow\">XGBRFRegressor</label><div class=\"sk-toggleable__content\"><pre>XGBRFRegressor(base_score=None, booster=None, callbacks=None,\n",
              "               colsample_bylevel=None, colsample_bytree=None, device=None,\n",
              "               early_stopping_rounds=None, enable_categorical=False,\n",
              "               eval_metric=None, feature_types=None, gamma=None,\n",
              "               grow_policy=None, importance_type=None,\n",
              "               interaction_constraints=None, max_bin=None,\n",
              "               max_cat_threshold=None, max_cat_to_onehot=None,\n",
              "               max_delta_step=None, max_depth=None, max_leaves=None,\n",
              "               min_child_weight=None, missing=nan, monotone_constraints=None,\n",
              "               multi_strategy=None, n_estimators=None, n_jobs=None,\n",
              "               num_parallel_tree=None, objective=&#x27;reg:squarederror&#x27;,\n",
              "               random_state=None, reg_alpha=None, ...)</pre></div></div></div></div></div>"
            ],
            "text/plain": [
              "XGBRFRegressor(base_score=None, booster=None, callbacks=None,\n",
              "               colsample_bylevel=None, colsample_bytree=None, device=None,\n",
              "               early_stopping_rounds=None, enable_categorical=False,\n",
              "               eval_metric=None, feature_types=None, gamma=None,\n",
              "               grow_policy=None, importance_type=None,\n",
              "               interaction_constraints=None, max_bin=None,\n",
              "               max_cat_threshold=None, max_cat_to_onehot=None,\n",
              "               max_delta_step=None, max_depth=None, max_leaves=None,\n",
              "               min_child_weight=None, missing=nan, monotone_constraints=None,\n",
              "               multi_strategy=None, n_estimators=None, n_jobs=None,\n",
              "               num_parallel_tree=None, objective='reg:squarederror',\n",
              "               random_state=None, reg_alpha=None, ...)"
            ]
          },
          "execution_count": 42,
          "metadata": {},
          "output_type": "execute_result"
        }
      ],
      "source": [
        "#create and train the model\n",
        "model = xgb.XGBRFRegressor() #cause we gonna be using regression here\n",
        "model.fit(train_data[features], train_data[target])"
      ]
    },
    {
      "cell_type": "code",
      "execution_count": 49,
      "metadata": {
        "colab": {
          "base_uri": "https://localhost:8080/"
        },
        "id": "aU2NPCpVCpJf",
        "outputId": "52baeaff-20be-4f7c-81b0-982ff5b06b37"
      },
      "outputs": [
        {
          "name": "stdout",
          "output_type": "stream",
          "text": [
            "MOdel Predictions: \n",
            "[3825.277  3844.5144 3920.03   3934.8364 3978.9287 4023.4834 4209.432\n",
            " 3984.6826 4059.496  4028.1    3989.1572 4010.2336 4040.1353 4142.5215\n",
            " 4100.607  4025.2886 4062.6387 4170.516  4100.1377 4122.8804 4103.243\n",
            " 4170.2036 4151.127  4122.296  4248.7256 4393.42   4174.155  4280.6494\n",
            " 4535.5864 4507.623  4802.264  4527.468  4183.315  4333.6753 4184.591\n",
            " 4102.975  4381.078  4555.7954 4836.209  4707.9653 4803.482  4451.1064\n",
            " 4624.7754 4625.369  4593.322  4190.9795 4622.77   4749.8647 4753.9536\n",
            " 4825.687  4816.443  4821.6006 4587.8813 4729.3394 4830.2    4647.355\n",
            " 4722.2085 4735.8794 4777.461  4852.0938 4848.6704 4826.551  4808.545\n",
            " 4720.088  4690.1816 4891.985  4852.456  4861.7    4576.503  4861.4307\n",
            " 4681.2417 4900.11   4732.7397 4798.7656 4958.0767 4935.062  4804.2954\n",
            " 4808.466  5099.328  5171.256  5256.245  5122.21   4857.969  4922.39\n",
            " 5041.266  4844.1626 4564.193  4851.5864 5171.256  4906.0996 5244.8623\n",
            " 5075.4077 5144.8716 5308.342  5075.2695 5294.042  5203.306  5317.928\n",
            " 5219.144  5225.8115 5198.064  5144.6235 5194.579  5201.7    5207.348\n",
            " 5167.5264 5183.4487 5172.3164 5172.4756 5068.026  5070.6826 5128.5835\n",
            " 5069.7256 4998.6084 5042.1426 5155.83   5037.5645 5056.3076 5165.6216\n",
            " 5099.328  4853.4614 4804.458  5053.908  4808.466  4833.3433 5017.5645\n",
            " 4875.629  4798.0015 4670.325  4852.814  4865.1    4962.1685 4805.182\n",
            " 5026.485  4987.676  5078.4043 4841.6387 4737.2866 4706.504  4987.676\n",
            " 5044.6846 5024.4565 5145.651  5311.3555 5311.3555 5346.022  5298.7036\n",
            " 5301.433  5245.52   5346.022  5322.432  5262.8477 5295.7666 5331.7363\n",
            " 5292.5415 5223.5815 5258.207  5444.3394 5313.2563 5278.8555 5313.7754\n",
            " 5229.089  5229.089  5380.389  5328.3047 5347.1196 5302.7915 5347.1196\n",
            " 5370.5986 5337.115  5331.152  5400.0576 5359.001  5331.152  5336.889\n",
            " 5411.3823 5348.189  5328.3047 5332.0625 5398.1035 5343.1665 5229.089\n",
            " 5542.716  5393.175  5360.3955 5343.4546 5339.609  5643.3374 5337.115\n",
            " 5327.2744 5332.0625 5433.48   5330.821  5358.155  5356.043  5343.1665\n",
            " 5343.1665 5377.808  5356.267  5375.3057 5411.6133 5298.6113 5328.3047\n",
            " 5407.762  5331.152  5311.1304 5358.155  5360.3955 5327.869  5327.869\n",
            " 5542.716  4966.0986 5330.5986 5287.3726 5347.1196 5345.8228 5359.8247\n",
            " 5343.1665 5383.9907 5347.1196 5367.497  5302.7915 5345.8228 5411.3823\n",
            " 5383.0127 5348.5586 5174.021  5292.67   5208.7993 5227.3584 5227.4463\n",
            " 5240.698  5192.7793 5244.829  5513.775  5316.0903 5362.5854 5293.411\n",
            " 5320.169  5245.309  5292.5415 5323.067  5272.623  5064.9434 5002.381 ]\n"
          ]
        }
      ],
      "source": [
        "#Make and show the predictions on the test data\n",
        "predictions = model.predict(test_data[features])\n",
        "print('MOdel Predictions: ')\n",
        "print(predictions)"
      ]
    },
    {
      "cell_type": "code",
      "execution_count": 51,
      "metadata": {
        "colab": {
          "base_uri": "https://localhost:8080/"
        },
        "id": "xg2EaFSlDjTk",
        "outputId": "f3fd6087-6426-47ff-a9f8-a0491943bb9c"
      },
      "outputs": [
        {
          "name": "stdout",
          "output_type": "stream",
          "text": [
            "Actual Values: \n",
            "0      3830.750000\n",
            "1      3891.600098\n",
            "2      3929.949951\n",
            "3      3943.699951\n",
            "4      4051.300049\n",
            "          ...     \n",
            "240    5616.250000\n",
            "241    5396.200195\n",
            "242    5209.899902\n",
            "243    5206.899902\n",
            "244    5118.149902\n",
            "Name: Close, Length: 245, dtype: float64\n"
          ]
        }
      ],
      "source": [
        "#show the actual values\n",
        "print('Actual Values: ')\n",
        "print(test_data[target])"
      ]
    },
    {
      "cell_type": "code",
      "execution_count": 50,
      "metadata": {
        "colab": {
          "base_uri": "https://localhost:8080/"
        },
        "id": "mAg_yAcFDpr7",
        "outputId": "5eac9e59-c181-458c-e78a-bf0fb8b1c791"
      },
      "outputs": [
        {
          "name": "stdout",
          "output_type": "stream",
          "text": [
            "Accuracy: \n",
            "42.75627183779046\n"
          ]
        }
      ],
      "source": [
        "#Showing the Model's Accuracy\n",
        "accuracy = model.score(test_data[features], test_data[target])\n",
        "print('Accuracy: ')\n",
        "print(accuracy*100)"
      ]
    },
    {
      "cell_type": "code",
      "execution_count": 52,
      "metadata": {
        "colab": {
          "base_uri": "https://localhost:8080/",
          "height": 433
        },
        "id": "NHP85QwWEM6p",
        "outputId": "99b8e3fc-684c-4798-ca0b-579028ed33d1"
      },
      "outputs": [
        {
          "data": {
            "image/png": "[encoded data removed]",
            "text/plain": [
              "<Figure size 640x480 with 1 Axes>"
            ]
          },
          "metadata": {},
          "output_type": "display_data"
        }
      ],
      "source": [
        "#plot the predictions and the close price\n",
        "plt.plot(data['Close'], label = 'Close Price')\n",
        "plt.plot(test_data[target].index, predictions, label = 'Predictions')\n",
        "plt.legend()\n",
        "plt.show()"
      ]
    },
    {
      "cell_type": "code",
      "execution_count": null,
      "metadata": {
        "id": "0EdMMYeOEy5N"
      },
      "outputs": [],
      "source": []
    }
  ],
  "metadata": {
    "colab": {
      "provenance": []
    },
    "kernelspec": {
      "display_name": "Python 3",
      "name": "python3"
    },
    "language_info": {
      "name": "python",
      "version": "3.12.2"
    }
  },
  "nbformat": 4,
  "nbformat_minor": 0
}
